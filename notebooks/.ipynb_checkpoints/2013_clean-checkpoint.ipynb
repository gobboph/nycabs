{
 "cells": [
  {
   "cell_type": "code",
   "execution_count": 1,
   "metadata": {
    "collapsed": false
   },
   "outputs": [
    {
     "name": "stderr",
     "output_type": "stream",
     "text": [
      ":0: FutureWarning: IPython widgets are experimental and may change in the future.\n"
     ]
    }
   ],
   "source": [
    "%matplotlib inline\n",
    "import pandas as pd\n",
    "import csv as csv\n",
    "import numpy as np\n",
    "from matplotlib import pyplot as plt\n",
    "import seaborn as sns\n",
    "from sklearn import datasets, linear_model\n",
    "import matplotlib\n",
    "import matplotlib.pylab as pl\n",
    "from matplotlib import rcParams\n",
    "import sqlite3"
   ]
  },
  {
   "cell_type": "code",
   "execution_count": 2,
   "metadata": {
    "collapsed": true
   },
   "outputs": [],
   "source": [
    "ds = pd.read_csv('../csv/jan2013_all', header = 0)"
   ]
  },
  {
   "cell_type": "code",
   "execution_count": 3,
   "metadata": {
    "collapsed": false
   },
   "outputs": [
    {
     "data": {
      "text/html": [
       "<div>\n",
       "<table border=\"1\" class=\"dataframe\">\n",
       "  <thead>\n",
       "    <tr style=\"text-align: right;\">\n",
       "      <th></th>\n",
       "      <th>Unnamed: 0</th>\n",
       "      <th>medallion</th>\n",
       "      <th>hack_license</th>\n",
       "      <th>vendor_id</th>\n",
       "      <th>rate_code</th>\n",
       "      <th>store_and_fwd_flag</th>\n",
       "      <th>pickup_datetime</th>\n",
       "      <th>dropoff_datetime</th>\n",
       "      <th>passenger_count</th>\n",
       "      <th>trip_time_in_secs</th>\n",
       "      <th>...</th>\n",
       "      <th>hack_license.1</th>\n",
       "      <th>vendor_id.1</th>\n",
       "      <th>pickup_datetime.1</th>\n",
       "      <th>payment_type</th>\n",
       "      <th>fare_amount</th>\n",
       "      <th>surcharge</th>\n",
       "      <th>mta_tax</th>\n",
       "      <th>tip_amount</th>\n",
       "      <th>tolls_amount</th>\n",
       "      <th>total_amount</th>\n",
       "    </tr>\n",
       "  </thead>\n",
       "  <tbody>\n",
       "    <tr>\n",
       "      <th>0</th>\n",
       "      <td>0</td>\n",
       "      <td>89D227B655E5C82AECF13C3F540D4CF4</td>\n",
       "      <td>BA96DE419E711691B9445D6A6307C170</td>\n",
       "      <td>CMT</td>\n",
       "      <td>1</td>\n",
       "      <td>N</td>\n",
       "      <td>2013-01-01 15:11:48</td>\n",
       "      <td>2013-01-01 15:18:10</td>\n",
       "      <td>4</td>\n",
       "      <td>382</td>\n",
       "      <td>...</td>\n",
       "      <td>BA96DE419E711691B9445D6A6307C170</td>\n",
       "      <td>CMT</td>\n",
       "      <td>2013-01-01 15:11:48</td>\n",
       "      <td>CSH</td>\n",
       "      <td>6.5</td>\n",
       "      <td>0.0</td>\n",
       "      <td>0.5</td>\n",
       "      <td>1.409691</td>\n",
       "      <td>0</td>\n",
       "      <td>8.409691</td>\n",
       "    </tr>\n",
       "    <tr>\n",
       "      <th>1</th>\n",
       "      <td>1</td>\n",
       "      <td>0BD7C8F5BA12B88E0B67BED28BEA73D8</td>\n",
       "      <td>9FD8F69F0804BDB5549F40E9DA1BE472</td>\n",
       "      <td>CMT</td>\n",
       "      <td>1</td>\n",
       "      <td>N</td>\n",
       "      <td>2013-01-06 00:18:35</td>\n",
       "      <td>2013-01-06 00:22:54</td>\n",
       "      <td>1</td>\n",
       "      <td>259</td>\n",
       "      <td>...</td>\n",
       "      <td>9FD8F69F0804BDB5549F40E9DA1BE472</td>\n",
       "      <td>CMT</td>\n",
       "      <td>2013-01-06 00:18:35</td>\n",
       "      <td>CSH</td>\n",
       "      <td>6.0</td>\n",
       "      <td>0.5</td>\n",
       "      <td>0.5</td>\n",
       "      <td>1.327724</td>\n",
       "      <td>0</td>\n",
       "      <td>8.327724</td>\n",
       "    </tr>\n",
       "    <tr>\n",
       "      <th>2</th>\n",
       "      <td>2</td>\n",
       "      <td>0BD7C8F5BA12B88E0B67BED28BEA73D8</td>\n",
       "      <td>9FD8F69F0804BDB5549F40E9DA1BE472</td>\n",
       "      <td>CMT</td>\n",
       "      <td>1</td>\n",
       "      <td>N</td>\n",
       "      <td>2013-01-05 18:49:41</td>\n",
       "      <td>2013-01-05 18:54:23</td>\n",
       "      <td>1</td>\n",
       "      <td>282</td>\n",
       "      <td>...</td>\n",
       "      <td>9FD8F69F0804BDB5549F40E9DA1BE472</td>\n",
       "      <td>CMT</td>\n",
       "      <td>2013-01-05 18:49:41</td>\n",
       "      <td>CSH</td>\n",
       "      <td>5.5</td>\n",
       "      <td>1.0</td>\n",
       "      <td>0.5</td>\n",
       "      <td>1.245758</td>\n",
       "      <td>0</td>\n",
       "      <td>8.245758</td>\n",
       "    </tr>\n",
       "    <tr>\n",
       "      <th>3</th>\n",
       "      <td>3</td>\n",
       "      <td>DFD2202EE08F7A8DC9A57B02ACB81FE2</td>\n",
       "      <td>51EE87E3205C985EF8431D850C786310</td>\n",
       "      <td>CMT</td>\n",
       "      <td>1</td>\n",
       "      <td>N</td>\n",
       "      <td>2013-01-07 23:54:15</td>\n",
       "      <td>2013-01-07 23:58:20</td>\n",
       "      <td>2</td>\n",
       "      <td>244</td>\n",
       "      <td>...</td>\n",
       "      <td>51EE87E3205C985EF8431D850C786310</td>\n",
       "      <td>CMT</td>\n",
       "      <td>2013-01-07 23:54:15</td>\n",
       "      <td>CSH</td>\n",
       "      <td>5.0</td>\n",
       "      <td>0.5</td>\n",
       "      <td>0.5</td>\n",
       "      <td>1.163791</td>\n",
       "      <td>0</td>\n",
       "      <td>7.163791</td>\n",
       "    </tr>\n",
       "    <tr>\n",
       "      <th>4</th>\n",
       "      <td>4</td>\n",
       "      <td>DFD2202EE08F7A8DC9A57B02ACB81FE2</td>\n",
       "      <td>51EE87E3205C985EF8431D850C786310</td>\n",
       "      <td>CMT</td>\n",
       "      <td>1</td>\n",
       "      <td>N</td>\n",
       "      <td>2013-01-07 23:25:03</td>\n",
       "      <td>2013-01-07 23:34:24</td>\n",
       "      <td>1</td>\n",
       "      <td>560</td>\n",
       "      <td>...</td>\n",
       "      <td>51EE87E3205C985EF8431D850C786310</td>\n",
       "      <td>CMT</td>\n",
       "      <td>2013-01-07 23:25:03</td>\n",
       "      <td>CSH</td>\n",
       "      <td>9.5</td>\n",
       "      <td>0.5</td>\n",
       "      <td>0.5</td>\n",
       "      <td>1.901491</td>\n",
       "      <td>0</td>\n",
       "      <td>12.401491</td>\n",
       "    </tr>\n",
       "  </tbody>\n",
       "</table>\n",
       "<p>5 rows × 26 columns</p>\n",
       "</div>"
      ],
      "text/plain": [
       "   Unnamed: 0                         medallion  \\\n",
       "0           0  89D227B655E5C82AECF13C3F540D4CF4   \n",
       "1           1  0BD7C8F5BA12B88E0B67BED28BEA73D8   \n",
       "2           2  0BD7C8F5BA12B88E0B67BED28BEA73D8   \n",
       "3           3  DFD2202EE08F7A8DC9A57B02ACB81FE2   \n",
       "4           4  DFD2202EE08F7A8DC9A57B02ACB81FE2   \n",
       "\n",
       "                       hack_license vendor_id  rate_code store_and_fwd_flag  \\\n",
       "0  BA96DE419E711691B9445D6A6307C170       CMT          1                  N   \n",
       "1  9FD8F69F0804BDB5549F40E9DA1BE472       CMT          1                  N   \n",
       "2  9FD8F69F0804BDB5549F40E9DA1BE472       CMT          1                  N   \n",
       "3  51EE87E3205C985EF8431D850C786310       CMT          1                  N   \n",
       "4  51EE87E3205C985EF8431D850C786310       CMT          1                  N   \n",
       "\n",
       "       pickup_datetime     dropoff_datetime  passenger_count  \\\n",
       "0  2013-01-01 15:11:48  2013-01-01 15:18:10                4   \n",
       "1  2013-01-06 00:18:35  2013-01-06 00:22:54                1   \n",
       "2  2013-01-05 18:49:41  2013-01-05 18:54:23                1   \n",
       "3  2013-01-07 23:54:15  2013-01-07 23:58:20                2   \n",
       "4  2013-01-07 23:25:03  2013-01-07 23:34:24                1   \n",
       "\n",
       "   trip_time_in_secs     ...                         hack_license.1  \\\n",
       "0                382     ...       BA96DE419E711691B9445D6A6307C170   \n",
       "1                259     ...       9FD8F69F0804BDB5549F40E9DA1BE472   \n",
       "2                282     ...       9FD8F69F0804BDB5549F40E9DA1BE472   \n",
       "3                244     ...       51EE87E3205C985EF8431D850C786310   \n",
       "4                560     ...       51EE87E3205C985EF8431D850C786310   \n",
       "\n",
       "   vendor_id.1    pickup_datetime.1  payment_type  fare_amount surcharge  \\\n",
       "0          CMT  2013-01-01 15:11:48           CSH          6.5       0.0   \n",
       "1          CMT  2013-01-06 00:18:35           CSH          6.0       0.5   \n",
       "2          CMT  2013-01-05 18:49:41           CSH          5.5       1.0   \n",
       "3          CMT  2013-01-07 23:54:15           CSH          5.0       0.5   \n",
       "4          CMT  2013-01-07 23:25:03           CSH          9.5       0.5   \n",
       "\n",
       "  mta_tax tip_amount tolls_amount total_amount  \n",
       "0     0.5   1.409691            0     8.409691  \n",
       "1     0.5   1.327724            0     8.327724  \n",
       "2     0.5   1.245758            0     8.245758  \n",
       "3     0.5   1.163791            0     7.163791  \n",
       "4     0.5   1.901491            0    12.401491  \n",
       "\n",
       "[5 rows x 26 columns]"
      ]
     },
     "execution_count": 3,
     "metadata": {},
     "output_type": "execute_result"
    }
   ],
   "source": [
    "ds.head()"
   ]
  },
  {
   "cell_type": "code",
   "execution_count": 4,
   "metadata": {
    "collapsed": false
   },
   "outputs": [
    {
     "data": {
      "text/plain": [
       "array(['Unnamed: 0', 'medallion', 'hack_license', 'vendor_id', 'rate_code',\n",
       "       'store_and_fwd_flag', 'pickup_datetime', 'dropoff_datetime',\n",
       "       'passenger_count', 'trip_time_in_secs', 'trip_distance',\n",
       "       'pickup_longitude', 'pickup_latitude', 'dropoff_longitude',\n",
       "       'dropoff_latitude', 'medallion.1', 'hack_license.1', 'vendor_id.1',\n",
       "       'pickup_datetime.1', 'payment_type', 'fare_amount', 'surcharge',\n",
       "       'mta_tax', 'tip_amount', 'tolls_amount', 'total_amount'], dtype=object)"
      ]
     },
     "execution_count": 4,
     "metadata": {},
     "output_type": "execute_result"
    }
   ],
   "source": [
    "ds.columns.values"
   ]
  },
  {
   "cell_type": "code",
   "execution_count": 6,
   "metadata": {
    "collapsed": false
   },
   "outputs": [],
   "source": [
    "#ds = ds.drop('Unnamed: 0',1)"
   ]
  },
  {
   "cell_type": "code",
   "execution_count": 5,
   "metadata": {
    "collapsed": true
   },
   "outputs": [],
   "source": [
    "ds = ds.drop(['Unnamed: 0','medallion.1','hack_license.1','vendor_id.1','pickup_datetime.1'],1)"
   ]
  },
  {
   "cell_type": "code",
   "execution_count": 6,
   "metadata": {
    "collapsed": false
   },
   "outputs": [
    {
     "data": {
      "text/plain": [
       "array(['medallion', 'hack_license', 'vendor_id', 'rate_code',\n",
       "       'store_and_fwd_flag', 'pickup_datetime', 'dropoff_datetime',\n",
       "       'passenger_count', 'trip_time_in_secs', 'trip_distance',\n",
       "       'pickup_longitude', 'pickup_latitude', 'dropoff_longitude',\n",
       "       'dropoff_latitude', 'payment_type', 'fare_amount', 'surcharge',\n",
       "       'mta_tax', 'tip_amount', 'tolls_amount', 'total_amount'], dtype=object)"
      ]
     },
     "execution_count": 6,
     "metadata": {},
     "output_type": "execute_result"
    }
   ],
   "source": [
    "ds.columns.values"
   ]
  },
  {
   "cell_type": "code",
   "execution_count": 7,
   "metadata": {
    "collapsed": false
   },
   "outputs": [
    {
     "data": {
      "text/plain": [
       "32224"
      ]
     },
     "execution_count": 7,
     "metadata": {},
     "output_type": "execute_result"
    }
   ],
   "source": [
    "len(ds.hack_license.unique())"
   ]
  },
  {
   "cell_type": "code",
   "execution_count": 8,
   "metadata": {
    "collapsed": false
   },
   "outputs": [
    {
     "data": {
      "text/plain": [
       "13426"
      ]
     },
     "execution_count": 8,
     "metadata": {},
     "output_type": "execute_result"
    }
   ],
   "source": [
    "len(ds.medallion.unique())"
   ]
  },
  {
   "cell_type": "code",
   "execution_count": 9,
   "metadata": {
    "collapsed": false
   },
   "outputs": [
    {
     "data": {
      "text/plain": [
       "3"
      ]
     },
     "execution_count": 9,
     "metadata": {},
     "output_type": "execute_result"
    }
   ],
   "source": [
    "ds.ix[ds.medallion==ds.medallion[1000],'hack_license'].nunique()"
   ]
  },
  {
   "cell_type": "code",
   "execution_count": 10,
   "metadata": {
    "collapsed": false
   },
   "outputs": [],
   "source": [
    "drivers = ds.groupby('medallion').aggregate({'hack_license':pd.Series.nunique})"
   ]
  },
  {
   "cell_type": "code",
   "execution_count": 11,
   "metadata": {
    "collapsed": false
   },
   "outputs": [
    {
     "data": {
      "text/html": [
       "<div>\n",
       "<table border=\"1\" class=\"dataframe\">\n",
       "  <thead>\n",
       "    <tr style=\"text-align: right;\">\n",
       "      <th></th>\n",
       "      <th>hack_license</th>\n",
       "    </tr>\n",
       "    <tr>\n",
       "      <th>medallion</th>\n",
       "      <th></th>\n",
       "    </tr>\n",
       "  </thead>\n",
       "  <tbody>\n",
       "    <tr>\n",
       "      <th>00005007A9F30E289E760362F69E4EAD</th>\n",
       "      <td>16</td>\n",
       "    </tr>\n",
       "    <tr>\n",
       "      <th>000318C2E3E6381580E5C99910A60668</th>\n",
       "      <td>16</td>\n",
       "    </tr>\n",
       "    <tr>\n",
       "      <th>000351EDC735C079246435340A54C7C1</th>\n",
       "      <td>13</td>\n",
       "    </tr>\n",
       "    <tr>\n",
       "      <th>0009986BDBAB2F9A125FEF49D0BFCCDD</th>\n",
       "      <td>4</td>\n",
       "    </tr>\n",
       "    <tr>\n",
       "      <th>00115F46520039845A5F719C979BEA45</th>\n",
       "      <td>3</td>\n",
       "    </tr>\n",
       "  </tbody>\n",
       "</table>\n",
       "</div>"
      ],
      "text/plain": [
       "                                  hack_license\n",
       "medallion                                     \n",
       "00005007A9F30E289E760362F69E4EAD            16\n",
       "000318C2E3E6381580E5C99910A60668            16\n",
       "000351EDC735C079246435340A54C7C1            13\n",
       "0009986BDBAB2F9A125FEF49D0BFCCDD             4\n",
       "00115F46520039845A5F719C979BEA45             3"
      ]
     },
     "execution_count": 11,
     "metadata": {},
     "output_type": "execute_result"
    }
   ],
   "source": [
    "drivers.head()"
   ]
  },
  {
   "cell_type": "code",
   "execution_count": 25,
   "metadata": {
    "collapsed": false
   },
   "outputs": [
    {
     "data": {
      "text/plain": [
       "count    13426.000000\n",
       "mean         7.771712\n",
       "std         10.279003\n",
       "min          1.000000\n",
       "25%          2.000000\n",
       "50%          3.000000\n",
       "75%          9.000000\n",
       "max         59.000000\n",
       "Name: hack_license, dtype: float64"
      ]
     },
     "execution_count": 25,
     "metadata": {},
     "output_type": "execute_result"
    }
   ],
   "source": [
    "drivers.hack_license.describe()"
   ]
  },
  {
   "cell_type": "code",
   "execution_count": 12,
   "metadata": {
    "collapsed": false
   },
   "outputs": [
    {
     "data": {
      "text/plain": [
       "1285"
      ]
     },
     "execution_count": 12,
     "metadata": {},
     "output_type": "execute_result"
    }
   ],
   "source": [
    "len(drivers[drivers.hack_license==1])"
   ]
  },
  {
   "cell_type": "code",
   "execution_count": 13,
   "metadata": {
    "collapsed": false
   },
   "outputs": [
    {
     "data": {
      "text/plain": [
       "104343"
      ]
     },
     "execution_count": 13,
     "metadata": {},
     "output_type": "execute_result"
    }
   ],
   "source": [
    "np.sum(drivers.hack_license)"
   ]
  },
  {
   "cell_type": "code",
   "execution_count": 14,
   "metadata": {
    "collapsed": false
   },
   "outputs": [],
   "source": [
    "#Let's clean up the data a bit\n",
    "ds = ds[ds.trip_distance>0]\n",
    "ds = ds[ds.total_amount>=0]\n",
    "ds = ds[ds.trip_time_in_secs>300]"
   ]
  },
  {
   "cell_type": "code",
   "execution_count": 15,
   "metadata": {
    "collapsed": true
   },
   "outputs": [],
   "source": [
    "lomax = -73.77\n",
    "lomin = -74.06\n",
    "lamax = 40.91\n",
    "lamin = 40.61"
   ]
  },
  {
   "cell_type": "code",
   "execution_count": 16,
   "metadata": {
    "collapsed": true
   },
   "outputs": [],
   "source": [
    "ds = ds[(ds['pickup_longitude']>=lomin)&(ds['pickup_longitude']<=lomax)&\\\n",
    "       (ds['dropoff_longitude']>=lomin)&(ds['dropoff_longitude']<=lomax)&\\\n",
    "       (ds['pickup_latitude']>=lamin)&(ds['pickup_latitude']<=lamax)&\\\n",
    "       (ds['dropoff_latitude']>=lamin)&(ds['dropoff_latitude']<=lamax)] #preparing set to bin"
   ]
  },
  {
   "cell_type": "code",
   "execution_count": 17,
   "metadata": {
    "collapsed": false
   },
   "outputs": [
    {
     "data": {
      "text/plain": [
       "count    11444817.000000\n",
       "mean           40.750140\n",
       "std             0.027045\n",
       "min            40.610050\n",
       "25%            40.735649\n",
       "50%            40.752930\n",
       "75%            40.766804\n",
       "max            40.909153\n",
       "Name: pickup_latitude, dtype: float64"
      ]
     },
     "execution_count": 17,
     "metadata": {},
     "output_type": "execute_result"
    }
   ],
   "source": [
    "ds.pickup_latitude.describe()"
   ]
  },
  {
   "cell_type": "code",
   "execution_count": 18,
   "metadata": {
    "collapsed": false
   },
   "outputs": [
    {
     "data": {
      "text/plain": [
       "count    11444817.000000\n",
       "mean           40.750140\n",
       "std             0.027045\n",
       "min            40.610050\n",
       "25%            40.735649\n",
       "50%            40.752930\n",
       "75%            40.766804\n",
       "max            40.909153\n",
       "Name: pickup_latitude, dtype: float64"
      ]
     },
     "execution_count": 18,
     "metadata": {},
     "output_type": "execute_result"
    }
   ],
   "source": [
    "ds.pickup_latitude.describe()"
   ]
  },
  {
   "cell_type": "code",
   "execution_count": 19,
   "metadata": {
    "collapsed": false
   },
   "outputs": [
    {
     "data": {
      "text/plain": [
       "count    11444817.000000\n",
       "mean          -73.974244\n",
       "std             0.032451\n",
       "min           -74.059998\n",
       "25%           -73.991547\n",
       "50%           -73.980698\n",
       "75%           -73.965332\n",
       "max           -73.770012\n",
       "Name: dropoff_longitude, dtype: float64"
      ]
     },
     "execution_count": 19,
     "metadata": {},
     "output_type": "execute_result"
    }
   ],
   "source": [
    "ds.dropoff_longitude.describe()"
   ]
  },
  {
   "cell_type": "code",
   "execution_count": 20,
   "metadata": {
    "collapsed": true
   },
   "outputs": [],
   "source": [
    "ds['avg_speed'] = ds['trip_distance'] / (ds['trip_time_in_secs'] / 3600)"
   ]
  },
  {
   "cell_type": "code",
   "execution_count": 21,
   "metadata": {
    "collapsed": false
   },
   "outputs": [
    {
     "data": {
      "text/html": [
       "<div>\n",
       "<table border=\"1\" class=\"dataframe\">\n",
       "  <thead>\n",
       "    <tr style=\"text-align: right;\">\n",
       "      <th></th>\n",
       "      <th>medallion</th>\n",
       "      <th>hack_license</th>\n",
       "      <th>vendor_id</th>\n",
       "      <th>rate_code</th>\n",
       "      <th>store_and_fwd_flag</th>\n",
       "      <th>pickup_datetime</th>\n",
       "      <th>dropoff_datetime</th>\n",
       "      <th>passenger_count</th>\n",
       "      <th>trip_time_in_secs</th>\n",
       "      <th>trip_distance</th>\n",
       "      <th>...</th>\n",
       "      <th>dropoff_longitude</th>\n",
       "      <th>dropoff_latitude</th>\n",
       "      <th>payment_type</th>\n",
       "      <th>fare_amount</th>\n",
       "      <th>surcharge</th>\n",
       "      <th>mta_tax</th>\n",
       "      <th>tip_amount</th>\n",
       "      <th>tolls_amount</th>\n",
       "      <th>total_amount</th>\n",
       "      <th>avg_speed</th>\n",
       "    </tr>\n",
       "  </thead>\n",
       "  <tbody>\n",
       "    <tr>\n",
       "      <th>0</th>\n",
       "      <td>89D227B655E5C82AECF13C3F540D4CF4</td>\n",
       "      <td>BA96DE419E711691B9445D6A6307C170</td>\n",
       "      <td>CMT</td>\n",
       "      <td>1</td>\n",
       "      <td>N</td>\n",
       "      <td>2013-01-01 15:11:48</td>\n",
       "      <td>2013-01-01 15:18:10</td>\n",
       "      <td>4</td>\n",
       "      <td>382</td>\n",
       "      <td>1.0</td>\n",
       "      <td>...</td>\n",
       "      <td>-73.989838</td>\n",
       "      <td>40.751171</td>\n",
       "      <td>CSH</td>\n",
       "      <td>6.5</td>\n",
       "      <td>0.0</td>\n",
       "      <td>0.5</td>\n",
       "      <td>1.409691</td>\n",
       "      <td>0.0</td>\n",
       "      <td>8.409691</td>\n",
       "      <td>9.424084</td>\n",
       "    </tr>\n",
       "    <tr>\n",
       "      <th>4</th>\n",
       "      <td>DFD2202EE08F7A8DC9A57B02ACB81FE2</td>\n",
       "      <td>51EE87E3205C985EF8431D850C786310</td>\n",
       "      <td>CMT</td>\n",
       "      <td>1</td>\n",
       "      <td>N</td>\n",
       "      <td>2013-01-07 23:25:03</td>\n",
       "      <td>2013-01-07 23:34:24</td>\n",
       "      <td>1</td>\n",
       "      <td>560</td>\n",
       "      <td>2.1</td>\n",
       "      <td>...</td>\n",
       "      <td>-74.002586</td>\n",
       "      <td>40.747868</td>\n",
       "      <td>CSH</td>\n",
       "      <td>9.5</td>\n",
       "      <td>0.5</td>\n",
       "      <td>0.5</td>\n",
       "      <td>1.901491</td>\n",
       "      <td>0.0</td>\n",
       "      <td>12.401491</td>\n",
       "      <td>13.500000</td>\n",
       "    </tr>\n",
       "    <tr>\n",
       "      <th>5</th>\n",
       "      <td>20D9ECB2CA0767CF7A01564DF2844A3E</td>\n",
       "      <td>598CCE5B9C1918568DEE71F43CF26CD2</td>\n",
       "      <td>CMT</td>\n",
       "      <td>1</td>\n",
       "      <td>N</td>\n",
       "      <td>2013-01-07 15:27:48</td>\n",
       "      <td>2013-01-07 15:38:37</td>\n",
       "      <td>1</td>\n",
       "      <td>648</td>\n",
       "      <td>1.7</td>\n",
       "      <td>...</td>\n",
       "      <td>-73.983322</td>\n",
       "      <td>40.743763</td>\n",
       "      <td>CSH</td>\n",
       "      <td>9.5</td>\n",
       "      <td>0.0</td>\n",
       "      <td>0.5</td>\n",
       "      <td>1.901491</td>\n",
       "      <td>0.0</td>\n",
       "      <td>11.901491</td>\n",
       "      <td>9.444444</td>\n",
       "    </tr>\n",
       "    <tr>\n",
       "      <th>6</th>\n",
       "      <td>496644932DF3932605C22C7926FF0FE0</td>\n",
       "      <td>513189AD756FF14FE670D10B92FAF04C</td>\n",
       "      <td>CMT</td>\n",
       "      <td>1</td>\n",
       "      <td>N</td>\n",
       "      <td>2013-01-08 11:01:15</td>\n",
       "      <td>2013-01-08 11:08:14</td>\n",
       "      <td>1</td>\n",
       "      <td>418</td>\n",
       "      <td>0.8</td>\n",
       "      <td>...</td>\n",
       "      <td>-74.007416</td>\n",
       "      <td>40.744343</td>\n",
       "      <td>CSH</td>\n",
       "      <td>6.0</td>\n",
       "      <td>0.0</td>\n",
       "      <td>0.5</td>\n",
       "      <td>1.327724</td>\n",
       "      <td>0.0</td>\n",
       "      <td>7.827724</td>\n",
       "      <td>6.889952</td>\n",
       "    </tr>\n",
       "    <tr>\n",
       "      <th>7</th>\n",
       "      <td>0B57B9633A2FECD3D3B1944AFC7471CF</td>\n",
       "      <td>CCD4367B417ED6634D986F573A552A62</td>\n",
       "      <td>CMT</td>\n",
       "      <td>1</td>\n",
       "      <td>N</td>\n",
       "      <td>2013-01-07 12:39:18</td>\n",
       "      <td>2013-01-07 13:10:56</td>\n",
       "      <td>3</td>\n",
       "      <td>1898</td>\n",
       "      <td>10.7</td>\n",
       "      <td>...</td>\n",
       "      <td>-73.865250</td>\n",
       "      <td>40.770630</td>\n",
       "      <td>CSH</td>\n",
       "      <td>34.0</td>\n",
       "      <td>0.0</td>\n",
       "      <td>0.5</td>\n",
       "      <td>5.917860</td>\n",
       "      <td>4.8</td>\n",
       "      <td>45.217860</td>\n",
       "      <td>20.295047</td>\n",
       "    </tr>\n",
       "  </tbody>\n",
       "</table>\n",
       "<p>5 rows × 22 columns</p>\n",
       "</div>"
      ],
      "text/plain": [
       "                          medallion                      hack_license  \\\n",
       "0  89D227B655E5C82AECF13C3F540D4CF4  BA96DE419E711691B9445D6A6307C170   \n",
       "4  DFD2202EE08F7A8DC9A57B02ACB81FE2  51EE87E3205C985EF8431D850C786310   \n",
       "5  20D9ECB2CA0767CF7A01564DF2844A3E  598CCE5B9C1918568DEE71F43CF26CD2   \n",
       "6  496644932DF3932605C22C7926FF0FE0  513189AD756FF14FE670D10B92FAF04C   \n",
       "7  0B57B9633A2FECD3D3B1944AFC7471CF  CCD4367B417ED6634D986F573A552A62   \n",
       "\n",
       "  vendor_id  rate_code store_and_fwd_flag      pickup_datetime  \\\n",
       "0       CMT          1                  N  2013-01-01 15:11:48   \n",
       "4       CMT          1                  N  2013-01-07 23:25:03   \n",
       "5       CMT          1                  N  2013-01-07 15:27:48   \n",
       "6       CMT          1                  N  2013-01-08 11:01:15   \n",
       "7       CMT          1                  N  2013-01-07 12:39:18   \n",
       "\n",
       "      dropoff_datetime  passenger_count  trip_time_in_secs  trip_distance  \\\n",
       "0  2013-01-01 15:18:10                4                382            1.0   \n",
       "4  2013-01-07 23:34:24                1                560            2.1   \n",
       "5  2013-01-07 15:38:37                1                648            1.7   \n",
       "6  2013-01-08 11:08:14                1                418            0.8   \n",
       "7  2013-01-07 13:10:56                3               1898           10.7   \n",
       "\n",
       "     ...      dropoff_longitude  dropoff_latitude  payment_type  fare_amount  \\\n",
       "0    ...             -73.989838         40.751171           CSH          6.5   \n",
       "4    ...             -74.002586         40.747868           CSH          9.5   \n",
       "5    ...             -73.983322         40.743763           CSH          9.5   \n",
       "6    ...             -74.007416         40.744343           CSH          6.0   \n",
       "7    ...             -73.865250         40.770630           CSH         34.0   \n",
       "\n",
       "  surcharge  mta_tax  tip_amount  tolls_amount  total_amount  avg_speed  \n",
       "0       0.0      0.5    1.409691           0.0      8.409691   9.424084  \n",
       "4       0.5      0.5    1.901491           0.0     12.401491  13.500000  \n",
       "5       0.0      0.5    1.901491           0.0     11.901491   9.444444  \n",
       "6       0.0      0.5    1.327724           0.0      7.827724   6.889952  \n",
       "7       0.0      0.5    5.917860           4.8     45.217860  20.295047  \n",
       "\n",
       "[5 rows x 22 columns]"
      ]
     },
     "execution_count": 21,
     "metadata": {},
     "output_type": "execute_result"
    }
   ],
   "source": [
    "ds.head()"
   ]
  },
  {
   "cell_type": "code",
   "execution_count": 22,
   "metadata": {
    "collapsed": false
   },
   "outputs": [],
   "source": [
    "ds.to_csv('../csv/jan2013_all_clean_2')"
   ]
  }
 ],
 "metadata": {
  "kernelspec": {
   "display_name": "Python 2",
   "language": "python",
   "name": "python2"
  },
  "language_info": {
   "codemirror_mode": {
    "name": "ipython",
    "version": 2
   },
   "file_extension": ".py",
   "mimetype": "text/x-python",
   "name": "python",
   "nbconvert_exporter": "python",
   "pygments_lexer": "ipython2",
   "version": "2.7.11"
  }
 },
 "nbformat": 4,
 "nbformat_minor": 0
}
