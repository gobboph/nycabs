{
 "cells": [
  {
   "cell_type": "code",
   "execution_count": 1,
   "metadata": {
    "collapsed": false
   },
   "outputs": [
    {
     "name": "stderr",
     "output_type": "stream",
     "text": [
      ":0: FutureWarning: IPython widgets are experimental and may change in the future.\n"
     ]
    }
   ],
   "source": [
    "%matplotlib inline\n",
    "import pandas as pd\n",
    "import csv as csv\n",
    "import numpy as np\n",
    "from matplotlib import pyplot as plt\n",
    "import seaborn as sns\n",
    "from sklearn import datasets, linear_model\n",
    "import matplotlib\n",
    "import matplotlib.pylab as pl\n",
    "from matplotlib import rcParams\n",
    "import sqlite3"
   ]
  },
  {
   "cell_type": "code",
   "execution_count": 2,
   "metadata": {
    "collapsed": true
   },
   "outputs": [],
   "source": [
    "conn = sqlite3.connect('../jan13.db')"
   ]
  },
  {
   "cell_type": "code",
   "execution_count": 3,
   "metadata": {
    "collapsed": true
   },
   "outputs": [],
   "source": [
    "with open('../queries/value_demand.sql') as query:\n",
    "    ds = pd.read_sql(query.read(),conn)"
   ]
  },
  {
   "cell_type": "code",
   "execution_count": 4,
   "metadata": {
    "collapsed": false
   },
   "outputs": [
    {
     "data": {
      "text/html": [
       "<div>\n",
       "<table border=\"1\" class=\"dataframe\">\n",
       "  <thead>\n",
       "    <tr style=\"text-align: right;\">\n",
       "      <th></th>\n",
       "      <th>medallion</th>\n",
       "      <th>pu_time</th>\n",
       "      <th>do_time</th>\n",
       "      <th>pu_lon</th>\n",
       "      <th>pu_lat</th>\n",
       "      <th>do_lon</th>\n",
       "      <th>do_lat</th>\n",
       "      <th>tot_amount</th>\n",
       "      <th>duration</th>\n",
       "    </tr>\n",
       "  </thead>\n",
       "  <tbody>\n",
       "    <tr>\n",
       "      <th>0</th>\n",
       "      <td>89D227B655E5C82AECF13C3F540D4CF4</td>\n",
       "      <td>2013-01-01 15:11:48</td>\n",
       "      <td>2013-01-01 15:18:10</td>\n",
       "      <td>-73.978165</td>\n",
       "      <td>40.757977</td>\n",
       "      <td>-73.989838</td>\n",
       "      <td>40.751171</td>\n",
       "      <td>8.409691</td>\n",
       "      <td>382</td>\n",
       "    </tr>\n",
       "    <tr>\n",
       "      <th>1</th>\n",
       "      <td>DFD2202EE08F7A8DC9A57B02ACB81FE2</td>\n",
       "      <td>2013-01-07 23:25:03</td>\n",
       "      <td>2013-01-07 23:34:24</td>\n",
       "      <td>-73.976250</td>\n",
       "      <td>40.748528</td>\n",
       "      <td>-74.002586</td>\n",
       "      <td>40.747868</td>\n",
       "      <td>12.401491</td>\n",
       "      <td>560</td>\n",
       "    </tr>\n",
       "    <tr>\n",
       "      <th>2</th>\n",
       "      <td>20D9ECB2CA0767CF7A01564DF2844A3E</td>\n",
       "      <td>2013-01-07 15:27:48</td>\n",
       "      <td>2013-01-07 15:38:37</td>\n",
       "      <td>-73.966743</td>\n",
       "      <td>40.764252</td>\n",
       "      <td>-73.983322</td>\n",
       "      <td>40.743763</td>\n",
       "      <td>11.901491</td>\n",
       "      <td>648</td>\n",
       "    </tr>\n",
       "    <tr>\n",
       "      <th>3</th>\n",
       "      <td>496644932DF3932605C22C7926FF0FE0</td>\n",
       "      <td>2013-01-08 11:01:15</td>\n",
       "      <td>2013-01-08 11:08:14</td>\n",
       "      <td>-73.995804</td>\n",
       "      <td>40.743977</td>\n",
       "      <td>-74.007416</td>\n",
       "      <td>40.744343</td>\n",
       "      <td>7.827724</td>\n",
       "      <td>418</td>\n",
       "    </tr>\n",
       "    <tr>\n",
       "      <th>4</th>\n",
       "      <td>0B57B9633A2FECD3D3B1944AFC7471CF</td>\n",
       "      <td>2013-01-07 12:39:18</td>\n",
       "      <td>2013-01-07 13:10:56</td>\n",
       "      <td>-73.989937</td>\n",
       "      <td>40.756775</td>\n",
       "      <td>-73.865250</td>\n",
       "      <td>40.770630</td>\n",
       "      <td>45.217860</td>\n",
       "      <td>1898</td>\n",
       "    </tr>\n",
       "  </tbody>\n",
       "</table>\n",
       "</div>"
      ],
      "text/plain": [
       "                          medallion              pu_time              do_time  \\\n",
       "0  89D227B655E5C82AECF13C3F540D4CF4  2013-01-01 15:11:48  2013-01-01 15:18:10   \n",
       "1  DFD2202EE08F7A8DC9A57B02ACB81FE2  2013-01-07 23:25:03  2013-01-07 23:34:24   \n",
       "2  20D9ECB2CA0767CF7A01564DF2844A3E  2013-01-07 15:27:48  2013-01-07 15:38:37   \n",
       "3  496644932DF3932605C22C7926FF0FE0  2013-01-08 11:01:15  2013-01-08 11:08:14   \n",
       "4  0B57B9633A2FECD3D3B1944AFC7471CF  2013-01-07 12:39:18  2013-01-07 13:10:56   \n",
       "\n",
       "      pu_lon     pu_lat     do_lon     do_lat  tot_amount  duration  \n",
       "0 -73.978165  40.757977 -73.989838  40.751171    8.409691       382  \n",
       "1 -73.976250  40.748528 -74.002586  40.747868   12.401491       560  \n",
       "2 -73.966743  40.764252 -73.983322  40.743763   11.901491       648  \n",
       "3 -73.995804  40.743977 -74.007416  40.744343    7.827724       418  \n",
       "4 -73.989937  40.756775 -73.865250  40.770630   45.217860      1898  "
      ]
     },
     "execution_count": 4,
     "metadata": {},
     "output_type": "execute_result"
    }
   ],
   "source": [
    "ds.head()"
   ]
  },
  {
   "cell_type": "code",
   "execution_count": 5,
   "metadata": {
    "collapsed": false
   },
   "outputs": [
    {
     "data": {
      "text/plain": [
       "11444817"
      ]
     },
     "execution_count": 5,
     "metadata": {},
     "output_type": "execute_result"
    }
   ],
   "source": [
    "len(ds)"
   ]
  },
  {
   "cell_type": "code",
   "execution_count": 6,
   "metadata": {
    "collapsed": true
   },
   "outputs": [],
   "source": [
    "ds = ds[ds.groupby('medallion').medallion.transform(len)>1]"
   ]
  },
  {
   "cell_type": "code",
   "execution_count": 7,
   "metadata": {
    "collapsed": false
   },
   "outputs": [
    {
     "data": {
      "text/plain": [
       "13263"
      ]
     },
     "execution_count": 7,
     "metadata": {},
     "output_type": "execute_result"
    }
   ],
   "source": [
    "ds.medallion.nunique()"
   ]
  },
  {
   "cell_type": "code",
   "execution_count": 8,
   "metadata": {
    "collapsed": true
   },
   "outputs": [],
   "source": [
    "ds['pu_time'] = pd.to_datetime(ds['pu_time'])\n",
    "ds['do_time'] = pd.to_datetime(ds['do_time'])"
   ]
  },
  {
   "cell_type": "code",
   "execution_count": 8,
   "metadata": {
    "collapsed": false
   },
   "outputs": [],
   "source": [
    "#med_sample = pd.concat([ds[ds.medallion==ds.medallion[2000]],ds[ds.medallion==ds.medallion[3000]],\\\n",
    "#                        ds[ds.medallion==ds.medallion[4000]]])"
   ]
  },
  {
   "cell_type": "code",
   "execution_count": 9,
   "metadata": {
    "collapsed": true
   },
   "outputs": [],
   "source": [
    "def compute_wait(df):\n",
    "    #df need to have the columns 'medallion', 'pu_time', 'do_time'\n",
    "    #attaching the wait time to\n",
    "    \n",
    "    #the pickup location row\n",
    "    a = [np.nan]\n",
    "    \n",
    "    #the dropoff location row\n",
    "    #a = []\n",
    "    \n",
    "    df = df.sort_values('pu_time')\n",
    "    df.index = range(len(df))\n",
    "    \n",
    "    if len(df)>1:\n",
    "        for i in range(len(df)-2):\n",
    "            time_diff = (df.pu_time[i+1] - df.do_time[i]).total_seconds()\n",
    "            a.append(time_diff)\n",
    "    else:\n",
    "        print 'fuck that shit'\n",
    "    \n",
    "    a.append(np.nan)\n",
    "    \n",
    "#    print len(df)\n",
    "#    print len(a)\n",
    "    df['wait_seconds'] = a\n",
    "    \n",
    "    return df"
   ]
  },
  {
   "cell_type": "code",
   "execution_count": 10,
   "metadata": {
    "collapsed": true
   },
   "outputs": [],
   "source": [
    "grouped = ds.groupby('medallion')"
   ]
  },
  {
   "cell_type": "code",
   "execution_count": 11,
   "metadata": {
    "collapsed": false
   },
   "outputs": [],
   "source": [
    "ds = grouped.apply(compute_wait)"
   ]
  },
  {
   "cell_type": "code",
   "execution_count": 12,
   "metadata": {
    "collapsed": false
   },
   "outputs": [],
   "source": [
    "ds.index = range(len(ds))"
   ]
  },
  {
   "cell_type": "code",
   "execution_count": 13,
   "metadata": {
    "collapsed": false
   },
   "outputs": [
    {
     "data": {
      "text/html": [
       "<div>\n",
       "<table border=\"1\" class=\"dataframe\">\n",
       "  <thead>\n",
       "    <tr style=\"text-align: right;\">\n",
       "      <th></th>\n",
       "      <th>medallion</th>\n",
       "      <th>pu_time</th>\n",
       "      <th>do_time</th>\n",
       "      <th>pu_lon</th>\n",
       "      <th>pu_lat</th>\n",
       "      <th>do_lon</th>\n",
       "      <th>do_lat</th>\n",
       "      <th>tot_amount</th>\n",
       "      <th>duration</th>\n",
       "      <th>wait_seconds</th>\n",
       "    </tr>\n",
       "  </thead>\n",
       "  <tbody>\n",
       "    <tr>\n",
       "      <th>0</th>\n",
       "      <td>00005007A9F30E289E760362F69E4EAD</td>\n",
       "      <td>2013-01-01 00:29:39</td>\n",
       "      <td>2013-01-01 00:37:47</td>\n",
       "      <td>-73.976624</td>\n",
       "      <td>40.751686</td>\n",
       "      <td>-73.949348</td>\n",
       "      <td>40.776871</td>\n",
       "      <td>12.983458</td>\n",
       "      <td>487</td>\n",
       "      <td>NaN</td>\n",
       "    </tr>\n",
       "    <tr>\n",
       "      <th>1</th>\n",
       "      <td>00005007A9F30E289E760362F69E4EAD</td>\n",
       "      <td>2013-01-01 00:39:16</td>\n",
       "      <td>2013-01-01 00:58:43</td>\n",
       "      <td>-73.948524</td>\n",
       "      <td>40.778000</td>\n",
       "      <td>-73.978966</td>\n",
       "      <td>40.780052</td>\n",
       "      <td>19.200000</td>\n",
       "      <td>1166</td>\n",
       "      <td>89</td>\n",
       "    </tr>\n",
       "    <tr>\n",
       "      <th>2</th>\n",
       "      <td>00005007A9F30E289E760362F69E4EAD</td>\n",
       "      <td>2013-01-01 00:59:38</td>\n",
       "      <td>2013-01-01 01:05:59</td>\n",
       "      <td>-73.979164</td>\n",
       "      <td>40.780136</td>\n",
       "      <td>-73.961884</td>\n",
       "      <td>40.774754</td>\n",
       "      <td>9.491658</td>\n",
       "      <td>380</td>\n",
       "      <td>55</td>\n",
       "    </tr>\n",
       "    <tr>\n",
       "      <th>3</th>\n",
       "      <td>00005007A9F30E289E760362F69E4EAD</td>\n",
       "      <td>2013-01-01 01:07:33</td>\n",
       "      <td>2013-01-01 01:19:52</td>\n",
       "      <td>-73.962669</td>\n",
       "      <td>40.775368</td>\n",
       "      <td>-73.956116</td>\n",
       "      <td>40.804432</td>\n",
       "      <td>16.475258</td>\n",
       "      <td>738</td>\n",
       "      <td>94</td>\n",
       "    </tr>\n",
       "    <tr>\n",
       "      <th>4</th>\n",
       "      <td>00005007A9F30E289E760362F69E4EAD</td>\n",
       "      <td>2013-01-01 01:21:23</td>\n",
       "      <td>2013-01-01 01:56:09</td>\n",
       "      <td>-73.955887</td>\n",
       "      <td>40.804317</td>\n",
       "      <td>-74.000214</td>\n",
       "      <td>40.721714</td>\n",
       "      <td>32.770326</td>\n",
       "      <td>2085</td>\n",
       "      <td>91</td>\n",
       "    </tr>\n",
       "  </tbody>\n",
       "</table>\n",
       "</div>"
      ],
      "text/plain": [
       "                          medallion             pu_time             do_time  \\\n",
       "0  00005007A9F30E289E760362F69E4EAD 2013-01-01 00:29:39 2013-01-01 00:37:47   \n",
       "1  00005007A9F30E289E760362F69E4EAD 2013-01-01 00:39:16 2013-01-01 00:58:43   \n",
       "2  00005007A9F30E289E760362F69E4EAD 2013-01-01 00:59:38 2013-01-01 01:05:59   \n",
       "3  00005007A9F30E289E760362F69E4EAD 2013-01-01 01:07:33 2013-01-01 01:19:52   \n",
       "4  00005007A9F30E289E760362F69E4EAD 2013-01-01 01:21:23 2013-01-01 01:56:09   \n",
       "\n",
       "      pu_lon     pu_lat     do_lon     do_lat  tot_amount  duration  \\\n",
       "0 -73.976624  40.751686 -73.949348  40.776871   12.983458       487   \n",
       "1 -73.948524  40.778000 -73.978966  40.780052   19.200000      1166   \n",
       "2 -73.979164  40.780136 -73.961884  40.774754    9.491658       380   \n",
       "3 -73.962669  40.775368 -73.956116  40.804432   16.475258       738   \n",
       "4 -73.955887  40.804317 -74.000214  40.721714   32.770326      2085   \n",
       "\n",
       "   wait_seconds  \n",
       "0           NaN  \n",
       "1            89  \n",
       "2            55  \n",
       "3            94  \n",
       "4            91  "
      ]
     },
     "execution_count": 13,
     "metadata": {},
     "output_type": "execute_result"
    }
   ],
   "source": [
    "ds.head()"
   ]
  },
  {
   "cell_type": "code",
   "execution_count": 14,
   "metadata": {
    "collapsed": false
   },
   "outputs": [
    {
     "data": {
      "text/plain": [
       "11444815"
      ]
     },
     "execution_count": 14,
     "metadata": {},
     "output_type": "execute_result"
    }
   ],
   "source": [
    "len(ds)"
   ]
  },
  {
   "cell_type": "code",
   "execution_count": 15,
   "metadata": {
    "collapsed": false
   },
   "outputs": [
    {
     "data": {
      "text/plain": [
       "11417192"
      ]
     },
     "execution_count": 15,
     "metadata": {},
     "output_type": "execute_result"
    }
   ],
   "source": [
    "len(ds[ds.wait_seconds>=0])"
   ]
  },
  {
   "cell_type": "code",
   "execution_count": 16,
   "metadata": {
    "collapsed": true
   },
   "outputs": [],
   "source": [
    "ds = ds[ds.wait_seconds>=0]"
   ]
  },
  {
   "cell_type": "code",
   "execution_count": 17,
   "metadata": {
    "collapsed": false
   },
   "outputs": [
    {
     "data": {
      "text/plain": [
       "11417192"
      ]
     },
     "execution_count": 17,
     "metadata": {},
     "output_type": "execute_result"
    }
   ],
   "source": [
    "len(ds)"
   ]
  },
  {
   "cell_type": "code",
   "execution_count": 18,
   "metadata": {
    "collapsed": false
   },
   "outputs": [],
   "source": [
    "ds['trip_value'] = ds['tot_amount'] / ((ds['duration'] + ds['wait_seconds']) / 3600)"
   ]
  },
  {
   "cell_type": "code",
   "execution_count": 19,
   "metadata": {
    "collapsed": false
   },
   "outputs": [
    {
     "data": {
      "text/html": [
       "<div>\n",
       "<table border=\"1\" class=\"dataframe\">\n",
       "  <thead>\n",
       "    <tr style=\"text-align: right;\">\n",
       "      <th></th>\n",
       "      <th>medallion</th>\n",
       "      <th>pu_time</th>\n",
       "      <th>do_time</th>\n",
       "      <th>pu_lon</th>\n",
       "      <th>pu_lat</th>\n",
       "      <th>do_lon</th>\n",
       "      <th>do_lat</th>\n",
       "      <th>tot_amount</th>\n",
       "      <th>duration</th>\n",
       "      <th>wait_seconds</th>\n",
       "      <th>trip_value</th>\n",
       "    </tr>\n",
       "  </thead>\n",
       "  <tbody>\n",
       "    <tr>\n",
       "      <th>1</th>\n",
       "      <td>00005007A9F30E289E760362F69E4EAD</td>\n",
       "      <td>2013-01-01 00:39:16</td>\n",
       "      <td>2013-01-01 00:58:43</td>\n",
       "      <td>-73.948524</td>\n",
       "      <td>40.778000</td>\n",
       "      <td>-73.978966</td>\n",
       "      <td>40.780052</td>\n",
       "      <td>19.200000</td>\n",
       "      <td>1166</td>\n",
       "      <td>89</td>\n",
       "      <td>55.075697</td>\n",
       "    </tr>\n",
       "    <tr>\n",
       "      <th>2</th>\n",
       "      <td>00005007A9F30E289E760362F69E4EAD</td>\n",
       "      <td>2013-01-01 00:59:38</td>\n",
       "      <td>2013-01-01 01:05:59</td>\n",
       "      <td>-73.979164</td>\n",
       "      <td>40.780136</td>\n",
       "      <td>-73.961884</td>\n",
       "      <td>40.774754</td>\n",
       "      <td>9.491658</td>\n",
       "      <td>380</td>\n",
       "      <td>55</td>\n",
       "      <td>78.551651</td>\n",
       "    </tr>\n",
       "    <tr>\n",
       "      <th>3</th>\n",
       "      <td>00005007A9F30E289E760362F69E4EAD</td>\n",
       "      <td>2013-01-01 01:07:33</td>\n",
       "      <td>2013-01-01 01:19:52</td>\n",
       "      <td>-73.962669</td>\n",
       "      <td>40.775368</td>\n",
       "      <td>-73.956116</td>\n",
       "      <td>40.804432</td>\n",
       "      <td>16.475258</td>\n",
       "      <td>738</td>\n",
       "      <td>94</td>\n",
       "      <td>71.287175</td>\n",
       "    </tr>\n",
       "    <tr>\n",
       "      <th>4</th>\n",
       "      <td>00005007A9F30E289E760362F69E4EAD</td>\n",
       "      <td>2013-01-01 01:21:23</td>\n",
       "      <td>2013-01-01 01:56:09</td>\n",
       "      <td>-73.955887</td>\n",
       "      <td>40.804317</td>\n",
       "      <td>-74.000214</td>\n",
       "      <td>40.721714</td>\n",
       "      <td>32.770326</td>\n",
       "      <td>2085</td>\n",
       "      <td>91</td>\n",
       "      <td>54.215613</td>\n",
       "    </tr>\n",
       "    <tr>\n",
       "      <th>5</th>\n",
       "      <td>00005007A9F30E289E760362F69E4EAD</td>\n",
       "      <td>2013-01-01 01:57:45</td>\n",
       "      <td>2013-01-01 02:16:48</td>\n",
       "      <td>-74.002373</td>\n",
       "      <td>40.719803</td>\n",
       "      <td>-73.973053</td>\n",
       "      <td>40.792763</td>\n",
       "      <td>28.600000</td>\n",
       "      <td>1142</td>\n",
       "      <td>96</td>\n",
       "      <td>83.166397</td>\n",
       "    </tr>\n",
       "  </tbody>\n",
       "</table>\n",
       "</div>"
      ],
      "text/plain": [
       "                          medallion             pu_time             do_time  \\\n",
       "1  00005007A9F30E289E760362F69E4EAD 2013-01-01 00:39:16 2013-01-01 00:58:43   \n",
       "2  00005007A9F30E289E760362F69E4EAD 2013-01-01 00:59:38 2013-01-01 01:05:59   \n",
       "3  00005007A9F30E289E760362F69E4EAD 2013-01-01 01:07:33 2013-01-01 01:19:52   \n",
       "4  00005007A9F30E289E760362F69E4EAD 2013-01-01 01:21:23 2013-01-01 01:56:09   \n",
       "5  00005007A9F30E289E760362F69E4EAD 2013-01-01 01:57:45 2013-01-01 02:16:48   \n",
       "\n",
       "      pu_lon     pu_lat     do_lon     do_lat  tot_amount  duration  \\\n",
       "1 -73.948524  40.778000 -73.978966  40.780052   19.200000      1166   \n",
       "2 -73.979164  40.780136 -73.961884  40.774754    9.491658       380   \n",
       "3 -73.962669  40.775368 -73.956116  40.804432   16.475258       738   \n",
       "4 -73.955887  40.804317 -74.000214  40.721714   32.770326      2085   \n",
       "5 -74.002373  40.719803 -73.973053  40.792763   28.600000      1142   \n",
       "\n",
       "   wait_seconds  trip_value  \n",
       "1            89   55.075697  \n",
       "2            55   78.551651  \n",
       "3            94   71.287175  \n",
       "4            91   54.215613  \n",
       "5            96   83.166397  "
      ]
     },
     "execution_count": 19,
     "metadata": {},
     "output_type": "execute_result"
    }
   ],
   "source": [
    "ds.head()"
   ]
  },
  {
   "cell_type": "code",
   "execution_count": 21,
   "metadata": {
    "collapsed": true
   },
   "outputs": [],
   "source": [
    "ds = ds[ds.wait_seconds<3600] #more than 1h wait is quite certainly a stop"
   ]
  },
  {
   "cell_type": "code",
   "execution_count": 22,
   "metadata": {
    "collapsed": false
   },
   "outputs": [],
   "source": [
    "valuebyhour = ds.groupby([ds.pu_time.map(lambda x: x.hour)]).aggregate({'trip_value':'mean'})"
   ]
  },
  {
   "cell_type": "code",
   "execution_count": 23,
   "metadata": {
    "collapsed": false
   },
   "outputs": [
    {
     "data": {
      "text/plain": [
       "<matplotlib.axes._subplots.AxesSubplot at 0x117323790>"
      ]
     },
     "execution_count": 23,
     "metadata": {},
     "output_type": "execute_result"
    },
    {
     "data": {
      "image/png": "[encoded data removed]",
      "text/plain": [
       "<matplotlib.figure.Figure at 0x12dccde10>"
      ]
     },
     "metadata": {},
     "output_type": "display_data"
    }
   ],
   "source": [
    "valuebyhour.plot.bar()"
   ]
  },
  {
   "cell_type": "code",
   "execution_count": 22,
   "metadata": {
    "collapsed": true
   },
   "outputs": [],
   "source": [
    "ds.to_csv('../VALUE_FULL_puwait')"
   ]
  },
  {
   "cell_type": "code",
   "execution_count": 24,
   "metadata": {
    "collapsed": true
   },
   "outputs": [],
   "source": [
    "uniquecabbyhour = ds.groupby([ds.pu_time.map(lambda x: x.hour)]).aggregate({'trip_value':'mean','medallion': pd.Series.nunique})"
   ]
  },
  {
   "cell_type": "code",
   "execution_count": 25,
   "metadata": {
    "collapsed": false
   },
   "outputs": [
    {
     "data": {
      "text/html": [
       "<div>\n",
       "<table border=\"1\" class=\"dataframe\">\n",
       "  <thead>\n",
       "    <tr style=\"text-align: right;\">\n",
       "      <th></th>\n",
       "      <th>trip_value</th>\n",
       "      <th>medallion</th>\n",
       "    </tr>\n",
       "    <tr>\n",
       "      <th>pu_time</th>\n",
       "      <th></th>\n",
       "      <th></th>\n",
       "    </tr>\n",
       "  </thead>\n",
       "  <tbody>\n",
       "    <tr>\n",
       "      <th>0</th>\n",
       "      <td>45.233825</td>\n",
       "      <td>12422</td>\n",
       "    </tr>\n",
       "    <tr>\n",
       "      <th>1</th>\n",
       "      <td>45.093104</td>\n",
       "      <td>12177</td>\n",
       "    </tr>\n",
       "    <tr>\n",
       "      <th>2</th>\n",
       "      <td>44.494891</td>\n",
       "      <td>11768</td>\n",
       "    </tr>\n",
       "    <tr>\n",
       "      <th>3</th>\n",
       "      <td>43.354585</td>\n",
       "      <td>11131</td>\n",
       "    </tr>\n",
       "    <tr>\n",
       "      <th>4</th>\n",
       "      <td>46.189679</td>\n",
       "      <td>10201</td>\n",
       "    </tr>\n",
       "    <tr>\n",
       "      <th>5</th>\n",
       "      <td>46.332798</td>\n",
       "      <td>8587</td>\n",
       "    </tr>\n",
       "    <tr>\n",
       "      <th>6</th>\n",
       "      <td>42.243159</td>\n",
       "      <td>9788</td>\n",
       "    </tr>\n",
       "    <tr>\n",
       "      <th>7</th>\n",
       "      <td>41.275280</td>\n",
       "      <td>11557</td>\n",
       "    </tr>\n",
       "    <tr>\n",
       "      <th>8</th>\n",
       "      <td>42.204998</td>\n",
       "      <td>12328</td>\n",
       "    </tr>\n",
       "    <tr>\n",
       "      <th>9</th>\n",
       "      <td>40.333072</td>\n",
       "      <td>12614</td>\n",
       "    </tr>\n",
       "    <tr>\n",
       "      <th>10</th>\n",
       "      <td>37.830453</td>\n",
       "      <td>12734</td>\n",
       "    </tr>\n",
       "    <tr>\n",
       "      <th>11</th>\n",
       "      <td>37.739406</td>\n",
       "      <td>12819</td>\n",
       "    </tr>\n",
       "    <tr>\n",
       "      <th>12</th>\n",
       "      <td>39.996640</td>\n",
       "      <td>12903</td>\n",
       "    </tr>\n",
       "    <tr>\n",
       "      <th>13</th>\n",
       "      <td>40.080508</td>\n",
       "      <td>12968</td>\n",
       "    </tr>\n",
       "    <tr>\n",
       "      <th>14</th>\n",
       "      <td>40.489225</td>\n",
       "      <td>13032</td>\n",
       "    </tr>\n",
       "    <tr>\n",
       "      <th>15</th>\n",
       "      <td>42.460265</td>\n",
       "      <td>12994</td>\n",
       "    </tr>\n",
       "    <tr>\n",
       "      <th>16</th>\n",
       "      <td>46.558529</td>\n",
       "      <td>12985</td>\n",
       "    </tr>\n",
       "    <tr>\n",
       "      <th>17</th>\n",
       "      <td>47.308625</td>\n",
       "      <td>13008</td>\n",
       "    </tr>\n",
       "    <tr>\n",
       "      <th>18</th>\n",
       "      <td>47.147974</td>\n",
       "      <td>13089</td>\n",
       "    </tr>\n",
       "    <tr>\n",
       "      <th>19</th>\n",
       "      <td>46.598541</td>\n",
       "      <td>13061</td>\n",
       "    </tr>\n",
       "    <tr>\n",
       "      <th>20</th>\n",
       "      <td>44.464483</td>\n",
       "      <td>12962</td>\n",
       "    </tr>\n",
       "    <tr>\n",
       "      <th>21</th>\n",
       "      <td>44.846029</td>\n",
       "      <td>12828</td>\n",
       "    </tr>\n",
       "    <tr>\n",
       "      <th>22</th>\n",
       "      <td>45.921774</td>\n",
       "      <td>12696</td>\n",
       "    </tr>\n",
       "    <tr>\n",
       "      <th>23</th>\n",
       "      <td>45.302190</td>\n",
       "      <td>12553</td>\n",
       "    </tr>\n",
       "  </tbody>\n",
       "</table>\n",
       "</div>"
      ],
      "text/plain": [
       "         trip_value  medallion\n",
       "pu_time                       \n",
       "0         45.233825      12422\n",
       "1         45.093104      12177\n",
       "2         44.494891      11768\n",
       "3         43.354585      11131\n",
       "4         46.189679      10201\n",
       "5         46.332798       8587\n",
       "6         42.243159       9788\n",
       "7         41.275280      11557\n",
       "8         42.204998      12328\n",
       "9         40.333072      12614\n",
       "10        37.830453      12734\n",
       "11        37.739406      12819\n",
       "12        39.996640      12903\n",
       "13        40.080508      12968\n",
       "14        40.489225      13032\n",
       "15        42.460265      12994\n",
       "16        46.558529      12985\n",
       "17        47.308625      13008\n",
       "18        47.147974      13089\n",
       "19        46.598541      13061\n",
       "20        44.464483      12962\n",
       "21        44.846029      12828\n",
       "22        45.921774      12696\n",
       "23        45.302190      12553"
      ]
     },
     "execution_count": 25,
     "metadata": {},
     "output_type": "execute_result"
    }
   ],
   "source": [
    "uniquecabbyhour"
   ]
  },
  {
   "cell_type": "code",
   "execution_count": 26,
   "metadata": {
    "collapsed": false
   },
   "outputs": [
    {
     "data": {
      "text/plain": [
       "<matplotlib.axes._subplots.AxesSubplot at 0x12d74db90>"
      ]
     },
     "execution_count": 26,
     "metadata": {},
     "output_type": "execute_result"
    },
    {
     "data": {
      "image/png": "[encoded data removed]",
      "text/plain": [
       "<matplotlib.figure.Figure at 0x12d75dc90>"
      ]
     },
     "metadata": {},
     "output_type": "display_data"
    }
   ],
   "source": [
    "uniquecabbyhour.plot.scatter(x='trip_value', y='medallion')"
   ]
  },
  {
   "cell_type": "code",
   "execution_count": null,
   "metadata": {
    "collapsed": true
   },
   "outputs": [],
   "source": []
  }
 ],
 "metadata": {
  "kernelspec": {
   "display_name": "Python 2",
   "language": "python",
   "name": "python2"
  },
  "language_info": {
   "codemirror_mode": {
    "name": "ipython",
    "version": 2
   },
   "file_extension": ".py",
   "mimetype": "text/x-python",
   "name": "python",
   "nbconvert_exporter": "python",
   "pygments_lexer": "ipython2",
   "version": "2.7.11"
  }
 },
 "nbformat": 4,
 "nbformat_minor": 0
}
